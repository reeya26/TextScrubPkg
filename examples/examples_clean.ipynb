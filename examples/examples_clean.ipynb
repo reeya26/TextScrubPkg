{
 "cells": [
  {
   "cell_type": "code",
   "execution_count": 1,
   "metadata": {},
   "outputs": [],
   "source": [
    "# importing required packages\n",
    "import os\n",
    "\n",
    "import pandas as pd\n",
    "\n",
    "os.chdir(\"..\")\n",
    "from textscrub import clean"
   ]
  },
  {
   "cell_type": "code",
   "execution_count": 2,
   "metadata": {},
   "outputs": [
    {
     "data": {
      "text/html": [
       "<div>\n",
       "<style scoped>\n",
       "    .dataframe tbody tr th:only-of-type {\n",
       "        vertical-align: middle;\n",
       "    }\n",
       "\n",
       "    .dataframe tbody tr th {\n",
       "        vertical-align: top;\n",
       "    }\n",
       "\n",
       "    .dataframe thead th {\n",
       "        text-align: right;\n",
       "    }\n",
       "</style>\n",
       "<table border=\"1\" class=\"dataframe\">\n",
       "  <thead>\n",
       "    <tr style=\"text-align: right;\">\n",
       "      <th></th>\n",
       "      <th>tweet_id</th>\n",
       "      <th>author_id</th>\n",
       "      <th>inbound</th>\n",
       "      <th>created_at</th>\n",
       "      <th>text</th>\n",
       "      <th>response_tweet_id</th>\n",
       "      <th>in_response_to_tweet_id</th>\n",
       "    </tr>\n",
       "  </thead>\n",
       "  <tbody>\n",
       "    <tr>\n",
       "      <th>0</th>\n",
       "      <td>119237</td>\n",
       "      <td>105834</td>\n",
       "      <td>True</td>\n",
       "      <td>Wed Oct 11 06:55:44 +0000 2017</td>\n",
       "      <td>@AppleSupport causing the reply to be disregar...</td>\n",
       "      <td>119236</td>\n",
       "      <td>NaN</td>\n",
       "    </tr>\n",
       "    <tr>\n",
       "      <th>1</th>\n",
       "      <td>119238</td>\n",
       "      <td>ChaseSupport</td>\n",
       "      <td>False</td>\n",
       "      <td>Wed Oct 11 13:25:49 +0000 2017</td>\n",
       "      <td>@105835 Your business means a lot to us. Pleas...</td>\n",
       "      <td>NaN</td>\n",
       "      <td>119239.0</td>\n",
       "    </tr>\n",
       "  </tbody>\n",
       "</table>\n",
       "</div>"
      ],
      "text/plain": [
       "   tweet_id     author_id  inbound                      created_at  \\\n",
       "0    119237        105834     True  Wed Oct 11 06:55:44 +0000 2017   \n",
       "1    119238  ChaseSupport    False  Wed Oct 11 13:25:49 +0000 2017   \n",
       "\n",
       "                                                text response_tweet_id  \\\n",
       "0  @AppleSupport causing the reply to be disregar...            119236   \n",
       "1  @105835 Your business means a lot to us. Pleas...               NaN   \n",
       "\n",
       "   in_response_to_tweet_id  \n",
       "0                      NaN  \n",
       "1                 119239.0  "
      ]
     },
     "execution_count": 2,
     "metadata": {},
     "output_type": "execute_result"
    }
   ],
   "source": [
    "# loading the dataset\n",
    "df = pd.read_csv(\"tests\\\\testing_dataset.csv\")\n",
    "df.head(2)"
   ]
  },
  {
   "cell_type": "code",
   "execution_count": 3,
   "metadata": {},
   "outputs": [
    {
     "data": {
      "text/plain": [
       "(93, 7)"
      ]
     },
     "execution_count": 3,
     "metadata": {},
     "output_type": "execute_result"
    }
   ],
   "source": [
    "# getting the shape of dataset\n",
    "df.shape"
   ]
  },
  {
   "cell_type": "markdown",
   "metadata": {},
   "source": [
    "## Examples of Clean"
   ]
  },
  {
   "cell_type": "code",
   "execution_count": 4,
   "metadata": {},
   "outputs": [
    {
     "data": {
      "text/plain": [
       "0    @AppleSupport causing the reply to be disregar...\n",
       "1    @105835 Your business means a lot to us. Pleas...\n",
       "2    @76328 I really hope you all change but I'm su...\n",
       "3    @105836 LiveChat is online at the moment -  or...\n",
       "4    @VirginTrains see attached error message. I've...\n",
       "Name: hyperlinks, dtype: object"
      ]
     },
     "execution_count": 4,
     "metadata": {},
     "output_type": "execute_result"
    }
   ],
   "source": [
    "# removing hyperlinks\n",
    "df['hyperlinks'] = df['text'].apply(lambda x: clean.remove_hyperlinks(x))\n",
    "df['hyperlinks'].head()"
   ]
  },
  {
   "cell_type": "code",
   "execution_count": 5,
   "metadata": {},
   "outputs": [
    {
     "data": {
      "text/plain": [
       "0    AppleSupport causing the reply to be disregard...\n",
       "1    105835 Your business means a lot to us Please ...\n",
       "2    76328 I really hope you all change but Im sure...\n",
       "3    105836 LiveChat is online at the moment  https...\n",
       "4    VirginTrains see attached error message Ive tr...\n",
       "Name: punctuation, dtype: object"
      ]
     },
     "execution_count": 5,
     "metadata": {},
     "output_type": "execute_result"
    }
   ],
   "source": [
    "# removing punctuation\n",
    "df['punctuation'] = df['text'].apply(lambda x: clean.remove_punctuation(x))\n",
    "df['punctuation'].head()"
   ]
  },
  {
   "cell_type": "code",
   "execution_count": 6,
   "metadata": {},
   "outputs": [
    {
     "data": {
      "text/plain": [
       "0    @AppleSupport causing the reply to be disregar...\n",
       "1    @105835 Your business means a lot to us. Pleas...\n",
       "2    @76328 I really hope you all change but I'm su...\n",
       "3    @105836 LiveChat is online at the moment - htt...\n",
       "4    @VirginTrains see attached error message. I've...\n",
       "Name: html, dtype: object"
      ]
     },
     "execution_count": 6,
     "metadata": {},
     "output_type": "execute_result"
    }
   ],
   "source": [
    "# removing html\n",
    "df['html'] = df['text'].apply(lambda x: clean.remove_html_tags(x))\n",
    "df['html'].head()"
   ]
  },
  {
   "cell_type": "code",
   "execution_count": 7,
   "metadata": {},
   "outputs": [
    {
     "data": {
      "text/plain": [
       "0    AppleSupportcausingthereplytobedisregardedandt...\n",
       "1    YourbusinessmeansalottousPleaseDMyournamezipco...\n",
       "2    IreallyhopeyouallchangebutImsureyouwontBecause...\n",
       "3    LiveChatisonlineatthemomenthttpstcoSYVtUKqorco...\n",
       "4    VirginTrainsseeattachederrormessageIvetriedlea...\n",
       "Name: glyphs, dtype: object"
      ]
     },
     "execution_count": 7,
     "metadata": {},
     "output_type": "execute_result"
    }
   ],
   "source": [
    "# removing non-ascii, non-printable characters, non-latins characters\n",
    "df['glyphs'] = df['text'].apply(lambda x: clean.remove_glyphs(x))\n",
    "df['glyphs'].head()"
   ]
  },
  {
   "cell_type": "code",
   "execution_count": 8,
   "metadata": {},
   "outputs": [
    {
     "data": {
      "text/plain": [
       "0    @AppleSupport causing the reply to be disregar...\n",
       "1    @105835 Your business means a lot to us. Pleas...\n",
       "2    @76328 I really hope you all change but I'm su...\n",
       "3    @105836 LiveChat is online at the moment - htt...\n",
       "4    @VirginTrains see attached error message. I've...\n",
       "Name: spaces, dtype: object"
      ]
     },
     "execution_count": 8,
     "metadata": {},
     "output_type": "execute_result"
    }
   ],
   "source": [
    "# remove extra spaces\n",
    "df['spaces'] = df['text'].apply(lambda x: clean.remove_spaces(x))\n",
    "df['spaces'].head()"
   ]
  }
 ],
 "metadata": {
  "interpreter": {
   "hash": "799123d8584ff8e429164f9ada39181d2ebba77babc969db7f771407bbcee4e2"
  },
  "kernelspec": {
   "display_name": "Python 3.9.7 ('base')",
   "language": "python",
   "name": "python3"
  },
  "language_info": {
   "codemirror_mode": {
    "name": "ipython",
    "version": 3
   },
   "file_extension": ".py",
   "mimetype": "text/x-python",
   "name": "python",
   "nbconvert_exporter": "python",
   "pygments_lexer": "ipython3",
   "version": "3.9.7"
  },
  "orig_nbformat": 4
 },
 "nbformat": 4,
 "nbformat_minor": 2
}

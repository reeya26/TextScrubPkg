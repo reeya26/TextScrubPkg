{
 "cells": [
  {
   "cell_type": "markdown",
   "metadata": {},
   "source": [
    "# Demo of TextScrub Package"
   ]
  },
  {
   "cell_type": "code",
   "execution_count": 7,
   "metadata": {},
   "outputs": [],
   "source": [
    "# importing required packages\n",
    "import pandas as pd\n",
    "import os\n",
    "\n",
    "os.chdir(\"..\")\n",
    "from textscrub import normalize_text"
   ]
  },
  {
   "cell_type": "code",
   "execution_count": 2,
   "metadata": {},
   "outputs": [
    {
     "data": {
      "text/html": [
       "<div>\n",
       "<style scoped>\n",
       "    .dataframe tbody tr th:only-of-type {\n",
       "        vertical-align: middle;\n",
       "    }\n",
       "\n",
       "    .dataframe tbody tr th {\n",
       "        vertical-align: top;\n",
       "    }\n",
       "\n",
       "    .dataframe thead th {\n",
       "        text-align: right;\n",
       "    }\n",
       "</style>\n",
       "<table border=\"1\" class=\"dataframe\">\n",
       "  <thead>\n",
       "    <tr style=\"text-align: right;\">\n",
       "      <th></th>\n",
       "      <th>tweet_id</th>\n",
       "      <th>author_id</th>\n",
       "      <th>inbound</th>\n",
       "      <th>created_at</th>\n",
       "      <th>text</th>\n",
       "      <th>response_tweet_id</th>\n",
       "      <th>in_response_to_tweet_id</th>\n",
       "    </tr>\n",
       "  </thead>\n",
       "  <tbody>\n",
       "    <tr>\n",
       "      <th>0</th>\n",
       "      <td>119237</td>\n",
       "      <td>105834</td>\n",
       "      <td>True</td>\n",
       "      <td>Wed Oct 11 06:55:44 +0000 2017</td>\n",
       "      <td>@AppleSupport causing the reply to be disregar...</td>\n",
       "      <td>119236</td>\n",
       "      <td>NaN</td>\n",
       "    </tr>\n",
       "    <tr>\n",
       "      <th>1</th>\n",
       "      <td>119238</td>\n",
       "      <td>ChaseSupport</td>\n",
       "      <td>False</td>\n",
       "      <td>Wed Oct 11 13:25:49 +0000 2017</td>\n",
       "      <td>@105835 Your business means a lot to us. Pleas...</td>\n",
       "      <td>NaN</td>\n",
       "      <td>119239.0</td>\n",
       "    </tr>\n",
       "    <tr>\n",
       "      <th>2</th>\n",
       "      <td>119239</td>\n",
       "      <td>105835</td>\n",
       "      <td>True</td>\n",
       "      <td>Wed Oct 11 13:00:09 +0000 2017</td>\n",
       "      <td>@76328 I really hope you all change but I'm su...</td>\n",
       "      <td>119238</td>\n",
       "      <td>NaN</td>\n",
       "    </tr>\n",
       "    <tr>\n",
       "      <th>3</th>\n",
       "      <td>119240</td>\n",
       "      <td>VirginTrains</td>\n",
       "      <td>False</td>\n",
       "      <td>Tue Oct 10 15:16:08 +0000 2017</td>\n",
       "      <td>@105836 LiveChat is online at the moment - htt...</td>\n",
       "      <td>119241</td>\n",
       "      <td>119242.0</td>\n",
       "    </tr>\n",
       "    <tr>\n",
       "      <th>4</th>\n",
       "      <td>119241</td>\n",
       "      <td>105836</td>\n",
       "      <td>True</td>\n",
       "      <td>Tue Oct 10 15:17:21 +0000 2017</td>\n",
       "      <td>@VirginTrains see attached error message. I've...</td>\n",
       "      <td>119243</td>\n",
       "      <td>119240.0</td>\n",
       "    </tr>\n",
       "  </tbody>\n",
       "</table>\n",
       "</div>"
      ],
      "text/plain": [
       "   tweet_id     author_id  inbound                      created_at  \\\n",
       "0    119237        105834     True  Wed Oct 11 06:55:44 +0000 2017   \n",
       "1    119238  ChaseSupport    False  Wed Oct 11 13:25:49 +0000 2017   \n",
       "2    119239        105835     True  Wed Oct 11 13:00:09 +0000 2017   \n",
       "3    119240  VirginTrains    False  Tue Oct 10 15:16:08 +0000 2017   \n",
       "4    119241        105836     True  Tue Oct 10 15:17:21 +0000 2017   \n",
       "\n",
       "                                                text response_tweet_id  \\\n",
       "0  @AppleSupport causing the reply to be disregar...            119236   \n",
       "1  @105835 Your business means a lot to us. Pleas...               NaN   \n",
       "2  @76328 I really hope you all change but I'm su...            119238   \n",
       "3  @105836 LiveChat is online at the moment - htt...            119241   \n",
       "4  @VirginTrains see attached error message. I've...            119243   \n",
       "\n",
       "   in_response_to_tweet_id  \n",
       "0                      NaN  \n",
       "1                 119239.0  \n",
       "2                      NaN  \n",
       "3                 119242.0  \n",
       "4                 119240.0  "
      ]
     },
     "execution_count": 2,
     "metadata": {},
     "output_type": "execute_result"
    }
   ],
   "source": [
    "# loading the dataset\n",
    "df = pd.read_csv(\"D:\\\\textscrub\\\\tests\\\\testing_dataset.csv\")\n",
    "df.head(5)"
   ]
  },
  {
   "cell_type": "markdown",
   "metadata": {},
   "source": [
    "### Example - Single string"
   ]
  },
  {
   "cell_type": "code",
   "execution_count": 3,
   "metadata": {},
   "outputs": [
    {
     "name": "stdout",
     "output_type": "stream",
     "text": [
      "Raw Text: @105841 Do you need help? Please DM us and let us know any steps you've tried since experiencing these behaviors.😭😭 https://t.co/GDrqU22YpT\n",
      "Cleaned Text: @105841 Do you need help? Please DM us and let us know any steps you've tried since experiencing these behaviors.😭😭 \n"
     ]
    }
   ],
   "source": [
    "example = \"@105841 Do you need help? Please DM us and let us know any steps you've tried since experiencing these behaviors.😭😭 https://t.co/GDrqU22YpT\"\n",
    "output = normalize_text.normalize_text(example,\n",
    "                   remove_glyphs=False,\n",
    "                   remove_html_tags = False,\n",
    "                   remove_hyperlinks = True, \n",
    "                   remove_punctuation = False, #\n",
    "                   remove_spaces = True, \n",
    "                   tokenizing = False, #\n",
    "                   stopwords_removal = False, #\n",
    "                   lemmat = False, \n",
    "                   remove_emojis = False, #\n",
    "                   replace_emojis = False\n",
    "                   )\n",
    "\n",
    "print(\"Raw Text: \" + example)\n",
    "print(\"Cleaned Text: \" + output)\n"
   ]
  },
  {
   "cell_type": "code",
   "execution_count": 5,
   "metadata": {},
   "outputs": [
    {
     "name": "stdout",
     "output_type": "stream",
     "text": [
      "Raw Text: @105841 Do you need help? Please DM us and let us know any steps you've tried since experiencing these behaviors.😭😭 https://t.co/GDrqU22YpT\n",
      "Cleaned Text: \n",
      "['105841', 'need', 'help', 'DM', 'let', 'know', 'steps', 'youve', 'tried', 'experiencing', 'behaviors']\n"
     ]
    }
   ],
   "source": [
    "example = \"@105841 Do you need help? Please DM us and let us know any steps you've tried since experiencing these behaviors.😭😭 https://t.co/GDrqU22YpT\"\n",
    "output = normalize_text.normalize_text(example,\n",
    "                   remove_glyphs=False,\n",
    "                   remove_html_tags = False,\n",
    "                   remove_hyperlinks = True, \n",
    "                   remove_punctuation = True, \n",
    "                   remove_spaces = True, \n",
    "                   tokenizing = True, \n",
    "                   stopwords_removal = True, \n",
    "                   lemmat = False, \n",
    "                   remove_emojis = True, \n",
    "                   replace_emojis = False\n",
    "                   )\n",
    "\n",
    "print(\"Raw Text: \" + example)\n",
    "print(\"Cleaned Text: \")\n",
    "print(output)\n"
   ]
  },
  {
   "cell_type": "markdown",
   "metadata": {},
   "source": [
    "### Example - DataFrame Column"
   ]
  },
  {
   "cell_type": "code",
   "execution_count": null,
   "metadata": {},
   "outputs": [],
   "source": [
    "df['cleaned'] = df['text'].apply(lambda x: \n",
    "                normalize_text.normalize_text(x,\n",
    "                   remove_glyphs=False,\n",
    "                   remove_html_tags = False,\n",
    "                   remove_hyperlinks = True,\n",
    "                   remove_punctuation = False,\n",
    "                   remove_spaces = True,\n",
    "                   tokenizing = False,\n",
    "                   stopwords_removal = False,\n",
    "                   lemmat = False,\n",
    "                   remove_emojis = False,\n",
    "                   replace_emojis = False\n",
    "                   )\n",
    "                )"
   ]
  },
  {
   "cell_type": "code",
   "execution_count": null,
   "metadata": {},
   "outputs": [
    {
     "data": {
      "text/html": [
       "<div>\n",
       "<style scoped>\n",
       "    .dataframe tbody tr th:only-of-type {\n",
       "        vertical-align: middle;\n",
       "    }\n",
       "\n",
       "    .dataframe tbody tr th {\n",
       "        vertical-align: top;\n",
       "    }\n",
       "\n",
       "    .dataframe thead th {\n",
       "        text-align: right;\n",
       "    }\n",
       "</style>\n",
       "<table border=\"1\" class=\"dataframe\">\n",
       "  <thead>\n",
       "    <tr style=\"text-align: right;\">\n",
       "      <th></th>\n",
       "      <th>text</th>\n",
       "      <th>cleaned</th>\n",
       "    </tr>\n",
       "  </thead>\n",
       "  <tbody>\n",
       "    <tr>\n",
       "      <th>0</th>\n",
       "      <td>@AppleSupport causing the reply to be disregar...</td>\n",
       "      <td>@AppleSupport causing the reply to be disregar...</td>\n",
       "    </tr>\n",
       "    <tr>\n",
       "      <th>1</th>\n",
       "      <td>@105835 Your business means a lot to us. Pleas...</td>\n",
       "      <td>@105835 Your business means a lot to us. Pleas...</td>\n",
       "    </tr>\n",
       "    <tr>\n",
       "      <th>2</th>\n",
       "      <td>@76328 I really hope you all change but I'm su...</td>\n",
       "      <td>@76328 I really hope you all change but I'm su...</td>\n",
       "    </tr>\n",
       "    <tr>\n",
       "      <th>3</th>\n",
       "      <td>@105836 LiveChat is online at the moment - htt...</td>\n",
       "      <td>@105836 LiveChat is online at the moment - or ...</td>\n",
       "    </tr>\n",
       "    <tr>\n",
       "      <th>4</th>\n",
       "      <td>@VirginTrains see attached error message. I've...</td>\n",
       "      <td>@VirginTrains see attached error message. I've...</td>\n",
       "    </tr>\n",
       "    <tr>\n",
       "      <th>...</th>\n",
       "      <td>...</td>\n",
       "      <td>...</td>\n",
       "    </tr>\n",
       "    <tr>\n",
       "      <th>88</th>\n",
       "      <td>@105860 I wish Amazon had an option of where I...</td>\n",
       "      <td>@105860 I wish Amazon had an option of where I...</td>\n",
       "    </tr>\n",
       "    <tr>\n",
       "      <th>89</th>\n",
       "      <td>They reschedule my shit for tomorrow https://t...</td>\n",
       "      <td>They reschedule my shit for tomorrow</td>\n",
       "    </tr>\n",
       "    <tr>\n",
       "      <th>90</th>\n",
       "      <td>@105861 Hey Sara, sorry to hear of the issues ...</td>\n",
       "      <td>@105861 Hey Sara, sorry to hear of the issues ...</td>\n",
       "    </tr>\n",
       "    <tr>\n",
       "      <th>91</th>\n",
       "      <td>@Tesco bit of both - finding the layout cumber...</td>\n",
       "      <td>@Tesco bit of both - finding the layout cumber...</td>\n",
       "    </tr>\n",
       "    <tr>\n",
       "      <th>92</th>\n",
       "      <td>@105861 If that doesn't help please DM your fu...</td>\n",
       "      <td>@105861 If that doesn't help please DM your fu...</td>\n",
       "    </tr>\n",
       "  </tbody>\n",
       "</table>\n",
       "<p>93 rows × 2 columns</p>\n",
       "</div>"
      ],
      "text/plain": [
       "                                                 text  \\\n",
       "0   @AppleSupport causing the reply to be disregar...   \n",
       "1   @105835 Your business means a lot to us. Pleas...   \n",
       "2   @76328 I really hope you all change but I'm su...   \n",
       "3   @105836 LiveChat is online at the moment - htt...   \n",
       "4   @VirginTrains see attached error message. I've...   \n",
       "..                                                ...   \n",
       "88  @105860 I wish Amazon had an option of where I...   \n",
       "89  They reschedule my shit for tomorrow https://t...   \n",
       "90  @105861 Hey Sara, sorry to hear of the issues ...   \n",
       "91  @Tesco bit of both - finding the layout cumber...   \n",
       "92  @105861 If that doesn't help please DM your fu...   \n",
       "\n",
       "                                              cleaned  \n",
       "0   @AppleSupport causing the reply to be disregar...  \n",
       "1   @105835 Your business means a lot to us. Pleas...  \n",
       "2   @76328 I really hope you all change but I'm su...  \n",
       "3   @105836 LiveChat is online at the moment - or ...  \n",
       "4   @VirginTrains see attached error message. I've...  \n",
       "..                                                ...  \n",
       "88  @105860 I wish Amazon had an option of where I...  \n",
       "89              They reschedule my shit for tomorrow   \n",
       "90  @105861 Hey Sara, sorry to hear of the issues ...  \n",
       "91  @Tesco bit of both - finding the layout cumber...  \n",
       "92  @105861 If that doesn't help please DM your fu...  \n",
       "\n",
       "[93 rows x 2 columns]"
      ]
     },
     "execution_count": 5,
     "metadata": {},
     "output_type": "execute_result"
    }
   ],
   "source": [
    "df[['text', 'cleaned']]"
   ]
  }
 ],
 "metadata": {
  "interpreter": {
   "hash": "01b892e919411aab47acafe56c2313bc9c706fda06528b04edcac49909bd8f5f"
  },
  "kernelspec": {
   "display_name": "Python 3.10.2 64-bit",
   "language": "python",
   "name": "python3"
  },
  "language_info": {
   "codemirror_mode": {
    "name": "ipython",
    "version": 3
   },
   "file_extension": ".py",
   "mimetype": "text/x-python",
   "name": "python",
   "nbconvert_exporter": "python",
   "pygments_lexer": "ipython3",
   "version": "3.10.2"
  },
  "orig_nbformat": 4
 },
 "nbformat": 4,
 "nbformat_minor": 2
}
